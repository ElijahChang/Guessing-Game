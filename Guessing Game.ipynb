{
 "cells": [
  {
   "cell_type": "code",
   "execution_count": null,
   "metadata": {
    "scrolled": true
   },
   "outputs": [
    {
     "name": "stdout",
     "output_type": "stream",
     "text": [
      "I'm thinking of a number betweeen 1 and 100\n"
     ]
    }
   ],
   "source": [
    "from random import randint\n",
    "\n",
    "print(\"I'm thinking of a number betweeen 1 and 100\")\n",
    "\n",
    "answer = randint(1,100)\n",
    "\n",
    "guess = int(input('What is your guess? '))\n",
    "\n",
    "while answer != guess:\n",
    "    if answer > guess:\n",
    "        print('Guess higher')\n",
    "    else: \n",
    "        print('Guess lower')\n",
    "    guess = int(input('What is your guess? '))\n",
    "    \n",
    "print('CONGRATULATIONS! YOU WIN!!!')"
   ]
  }
 ],
 "metadata": {
  "kernelspec": {
   "display_name": "Python 3",
   "language": "python",
   "name": "python3"
  },
  "language_info": {
   "codemirror_mode": {
    "name": "ipython",
    "version": 3
   },
   "file_extension": ".py",
   "mimetype": "text/x-python",
   "name": "python",
   "nbconvert_exporter": "python",
   "pygments_lexer": "ipython3",
   "version": "3.6.3"
  }
 },
 "nbformat": 4,
 "nbformat_minor": 2
}
